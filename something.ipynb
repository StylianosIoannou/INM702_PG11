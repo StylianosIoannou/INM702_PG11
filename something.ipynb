{
 "cells": [
  {
   "cell_type": "code",
   "execution_count": 2,
   "metadata": {},
   "outputs": [
    {
     "name": "stdout",
     "output_type": "stream",
     "text": [
      "Dataset Overview:\n",
      "   Year Age_Group  Gender  Smoking_Prevalence  Drug_Experimentation  \\\n",
      "0  2024     15-19    Both               18.85                 32.40   \n",
      "1  2024     10-14  Female               34.88                 41.57   \n",
      "2  2023     10-14    Both               42.00                 56.80   \n",
      "3  2024     40-49    Both               33.75                 42.90   \n",
      "4  2023     15-19    Male               47.90                 39.62   \n",
      "\n",
      "  Socioeconomic_Status  Peer_Influence School_Programs  Family_Background  \\\n",
      "0                 High               5             Yes                  1   \n",
      "1                 High               6             Yes                 10   \n",
      "2                 High               6             Yes                  2   \n",
      "3               Middle              10              No                  9   \n",
      "4                 High               1              No                  2   \n",
      "\n",
      "   Mental_Health Access_to_Counseling  Parental_Supervision  \\\n",
      "0              5                   No                     4   \n",
      "1              5                   No                     9   \n",
      "2              7                  Yes                     2   \n",
      "3              7                  Yes                     2   \n",
      "4              4                  Yes                     4   \n",
      "\n",
      "  Substance_Education  Community_Support  Media_Influence  \n",
      "0                  No                  3                1  \n",
      "1                 Yes                  9                3  \n",
      "2                  No                  5                1  \n",
      "3                  No                 10                9  \n",
      "4                  No                 10                3  \n"
     ]
    }
   ],
   "source": [
    "import pandas as pd\n",
    "import numpy as np\n",
    "\n",
    "# Correct the method to read the CSV file\n",
    "dataset = pd.read_csv('youth_smoking_drug_data_10000_rows_expanded.csv')\n",
    "\n",
    "print(\"Dataset Overview:\")\n",
    "print(dataset.head())\n"
   ]
  },
  {
   "cell_type": "code",
   "execution_count": null,
   "metadata": {},
   "outputs": [],
   "source": []
  }
 ],
 "metadata": {
  "kernelspec": {
   "display_name": "Python 3",
   "language": "python",
   "name": "python3"
  },
  "language_info": {
   "codemirror_mode": {
    "name": "ipython",
    "version": 3
   },
   "file_extension": ".py",
   "mimetype": "text/x-python",
   "name": "python",
   "nbconvert_exporter": "python",
   "pygments_lexer": "ipython3",
   "version": "3.12.2"
  }
 },
 "nbformat": 4,
 "nbformat_minor": 2
}
