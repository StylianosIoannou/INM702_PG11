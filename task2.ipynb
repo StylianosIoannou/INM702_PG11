{
 "cells": [
  {
   "cell_type": "code",
   "execution_count": 1,
   "metadata": {},
   "outputs": [
    {
     "name": "stdout",
     "output_type": "stream",
     "text": [
      "Dataset:\n",
      "  Ticker        Date        Open        High         Low       Close  \\\n",
      "0   AAPL  2023-02-07  150.639999  155.229996  150.639999  154.649994   \n",
      "1   AAPL  2023-02-08  153.880005  154.580002  151.169998  151.919998   \n",
      "2   AAPL  2023-02-09  153.779999  154.330002  150.419998  150.869995   \n",
      "3   AAPL  2023-02-10  149.460007  151.339996  149.220001  151.009995   \n",
      "4   AAPL  2023-02-13  150.949997  154.259995  150.919998  153.850006   \n",
      "\n",
      "    Adj Close    Volume  \n",
      "0  154.414230  83322600  \n",
      "1  151.688400  64120100  \n",
      "2  150.639999  56007100  \n",
      "3  151.009995  57450700  \n",
      "4  153.850006  62199000  \n"
     ]
    }
   ],
   "source": [
    "import pandas as pd\n",
    "import numpy as np\n",
    "\n",
    "data = pd.read_csv('stocks.csv')\n",
    "\n",
    "print('Dataset:')\n",
    "print(data.head())"
   ]
  },
  {
   "cell_type": "code",
   "execution_count": null,
   "metadata": {},
   "outputs": [],
   "source": [
    "# Import necessary PyTorch modules \n",
    "import torch\n",
    "import torch.nn as nn\n",
    "import torch.optim as optim\n",
    "\n",
    "# Defined the StockNeuralNetwork class with layers and activation functions\n",
    "class StockNeuralNetwork(nn.Module):\n",
    "    def __init__(self, input_size, hidden_sizes, output_size):\n",
    "        super(StockNeuralNetwork, self).__init__()\n",
    "        self.first_layer = nn.Linear(input_size, hidden_sizes[0])\n",
    "        self.relu1 = nn.ReLU()  \n",
    "        self.second_layer = nn.Linear(hidden_sizes[0], hidden_sizes[1])\n",
    "        self.relu2 = nn.ReLU()\n",
    "        self.dropout2 = nn.Dropout(0.5)  \n",
    "        self.output_layer = nn.Linear(hidden_sizes[1], output_size)\n",
    "\n",
    "\n",
    "# Defined the forward pass logic\n",
    "    def forward(self, x):\n",
    "        x = self.first_layer(x)\n",
    "        x = self.relu1(x)  \n",
    "        x = self.second_layer(x)\n",
    "        x = self.relu2(x)  \n",
    "        x = self.dropout2(x)  \n",
    "        x = self.output_layer(x)\n",
    "        return x"
   ]
  },
  {
   "cell_type": "code",
   "execution_count": null,
   "metadata": {},
   "outputs": [],
   "source": [
    "# Set the model parameters(Still testing to see which are the best parameters to use)\n",
    "\"\"\"Model Parameters\n",
    "input_size =  \n",
    "hidden_sizes =  \n",
    "output_size = \n",
    "\"\"\"\n",
    "# Instantiate the neural network model\n",
    "model = StockNeuralNetwork(input_size, hidden_sizes, output_size)\n",
    "\n",
    "# Defined the loss function and optimizer\n",
    "criterion = nn.MSELoss()  #\n",
    "optimizer = optim.Adam(model.parameters(), lr=0.001)"
   ]
  },
  {
   "cell_type": "code",
   "execution_count": null,
   "metadata": {},
   "outputs": [],
   "source": []
  }
 ],
 "metadata": {
  "kernelspec": {
   "display_name": "Python 3",
   "language": "python",
   "name": "python3"
  },
  "language_info": {
   "codemirror_mode": {
    "name": "ipython",
    "version": 3
   },
   "file_extension": ".py",
   "mimetype": "text/x-python",
   "name": "python",
   "nbconvert_exporter": "python",
   "pygments_lexer": "ipython3",
   "version": "3.11.9"
  }
 },
 "nbformat": 4,
 "nbformat_minor": 2
}
