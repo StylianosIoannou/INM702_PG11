{
 "cells": [
  {
   "cell_type": "code",
   "execution_count": 6,
   "metadata": {},
   "outputs": [
    {
     "name": "stdout",
     "output_type": "stream",
     "text": [
      "Dataset Overview:\n",
      "   Year Age_Group  Gender  Smoking_Prevalence  Drug_Experimentation  \\\n",
      "0  2024     15-19    Both               18.85                 32.40   \n",
      "1  2024     10-14  Female               34.88                 41.57   \n",
      "2  2023     10-14    Both               42.00                 56.80   \n",
      "3  2024     40-49    Both               33.75                 42.90   \n",
      "4  2023     15-19    Male               47.90                 39.62   \n",
      "\n",
      "  Socioeconomic_Status  Peer_Influence School_Programs  Family_Background  \\\n",
      "0                 High               5             Yes                  1   \n",
      "1                 High               6             Yes                 10   \n",
      "2                 High               6             Yes                  2   \n",
      "3               Middle              10              No                  9   \n",
      "4                 High               1              No                  2   \n",
      "\n",
      "   Mental_Health Access_to_Counseling  Parental_Supervision  \\\n",
      "0              5                   No                     4   \n",
      "1              5                   No                     9   \n",
      "2              7                  Yes                     2   \n",
      "3              7                  Yes                     2   \n",
      "4              4                  Yes                     4   \n",
      "\n",
      "  Substance_Education  Community_Support  Media_Influence  \n",
      "0                  No                  3                1  \n",
      "1                 Yes                  9                3  \n",
      "2                  No                  5                1  \n",
      "3                  No                 10                9  \n",
      "4                  No                 10                3  \n"
     ]
    }
   ],
   "source": [
    "import pandas as pd\n",
    "import numpy as np\n",
    "\n",
    "# Load the dataset\n",
    "data = pd.read_csv('youth_smoking_drug_data_10000_rows_expanded.csv')\n",
    "\n",
    "print(\"Dataset Overview:\")\n",
    "print(data.head())\n"
   ]
  },
  {
   "cell_type": "code",
   "execution_count": 13,
   "metadata": {},
   "outputs": [
    {
     "name": "stdout",
     "output_type": "stream",
     "text": [
      "The Initial Shape of the Dataset: (10000, 15)\n"
     ]
    }
   ],
   "source": [
    "print(\"The Initial Shape of the Dataset:\", data.shape)\n"
   ]
  },
  {
   "cell_type": "code",
   "execution_count": null,
   "metadata": {},
   "outputs": [],
   "source": [
    "class Sigmoid:\n",
    "    def forward(self,x):\n",
    "        # Computed the sigmoind function\n",
    "        # The result is stored in self.output for use during the backward pass\n",
    "        self.output = 1 / (1 + np.exp(-x))\n",
    "        return self.output\n",
    "    \n",
    "    def backward(self, grad):\n",
    "        return grad * self.output * (1 - self.output)\n"
   ]
  },
  {
   "cell_type": "code",
   "execution_count": 11,
   "metadata": {},
   "outputs": [],
   "source": [
    "class ReLU:\n",
    "    def forward(self, x):\n",
    "        # Save the input for use in the backward pass\n",
    "        self.input = x  \n",
    "        relu_output = np.maximum(0, x)\n",
    "        return np.maximum(0, x)  # Apply ReLU activation\n",
    "\n",
    "    def backward(self, grad):\n",
    "        # Create a copy of grad to avoid modifying it directly\n",
    "        grad_input = np.array(grad, copy=True)\n",
    "        # Set the gradient to 0 for all input values where x <= 0\n",
    "        grad_input[self.input <= 0] = 0\n",
    "        return grad_input  # Return the modified gradient\n"
   ]
  },
  {
   "cell_type": "code",
   "execution_count": null,
   "metadata": {},
   "outputs": [],
   "source": [
    "class Softmax:\n",
    "    def forward(self, x):\n",
    "        # Subtract the max value for numerical stability\n",
    "        exp_values = np.exp(x - np.max(x, axis=1, keepdims=True))\n",
    "        # Normalize by dividing by the sum of exponentials\n",
    "        self.output = exp_values / np.sum(exp_values, axis=1, keepdims=True)\n",
    "        return self.output\n",
    "\n",
    "    def backward(self, grad):\n",
    "        # Gradient w.r.t. the input is simply grad passed from the loss\n",
    "        # Cross-entropy loss simplifies this calculation\n",
    "        return grad\n"
   ]
  },
  {
   "cell_type": "code",
   "execution_count": null,
   "metadata": {},
   "outputs": [],
   "source": [
    "class Dropout:\n",
    "    def __init__(self, dropout_rate):\n",
    "        \n",
    "        self.dropout_rate = dropout_rate\n",
    "        self.mask = None\n",
    "\n",
    "    def forward(self, inputs, training=True):\n",
    "        \n",
    "        if training:\n",
    "            # Generate the dropout mask (1 for active neurons, 0 for dropped neurons)\n",
    "            self.mask = np.random.binomial(1, 1 - self.dropout_rate, size=inputs.shape)\n",
    "            # Apply the mask and scale the active neurons\n",
    "            return inputs * self.mask / (1 - self.dropout_rate)\n",
    "        else:\n",
    "            # At test time, just return the inputs unchanged\n",
    "            return inputs\n",
    "\n",
    "    def backward(self, grad_output):\n",
    "       \n",
    "        # Propagate gradients only through active neurons\n",
    "        return grad_output * self.mask / (1 - self.dropout_rate)\n"
   ]
  },
  {
   "cell_type": "code",
   "execution_count": null,
   "metadata": {},
   "outputs": [],
   "source": []
  }
 ],
 "metadata": {
  "kernelspec": {
   "display_name": "Python 3",
   "language": "python",
   "name": "python3"
  },
  "language_info": {
   "codemirror_mode": {
    "name": "ipython",
    "version": 3
   },
   "file_extension": ".py",
   "mimetype": "text/x-python",
   "name": "python",
   "nbconvert_exporter": "python",
   "pygments_lexer": "ipython3",
   "version": "3.11.9"
  }
 },
 "nbformat": 4,
 "nbformat_minor": 2
}
