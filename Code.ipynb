{
 "cells": [
  {
   "cell_type": "code",
   "execution_count": 1,
   "metadata": {},
   "outputs": [
    {
     "name": "stdout",
     "output_type": "stream",
     "text": [
      "Dataset Overview:\n",
      "   Year Age_Group  Gender  Smoking_Prevalence  Drug_Experimentation  \\\n",
      "0  2024     15-19    Both               18.85                 32.40   \n",
      "1  2024     10-14  Female               34.88                 41.57   \n",
      "2  2023     10-14    Both               42.00                 56.80   \n",
      "3  2024     40-49    Both               33.75                 42.90   \n",
      "4  2023     15-19    Male               47.90                 39.62   \n",
      "\n",
      "  Socioeconomic_Status  Peer_Influence School_Programs  Family_Background  \\\n",
      "0                 High               5             Yes                  1   \n",
      "1                 High               6             Yes                 10   \n",
      "2                 High               6             Yes                  2   \n",
      "3               Middle              10              No                  9   \n",
      "4                 High               1              No                  2   \n",
      "\n",
      "   Mental_Health Access_to_Counseling  Parental_Supervision  \\\n",
      "0              5                   No                     4   \n",
      "1              5                   No                     9   \n",
      "2              7                  Yes                     2   \n",
      "3              7                  Yes                     2   \n",
      "4              4                  Yes                     4   \n",
      "\n",
      "  Substance_Education  Community_Support  Media_Influence  \n",
      "0                  No                  3                1  \n",
      "1                 Yes                  9                3  \n",
      "2                  No                  5                1  \n",
      "3                  No                 10                9  \n",
      "4                  No                 10                3  \n"
     ]
    }
   ],
   "source": [
    "import pandas as pd\n",
    "import numpy as np\n",
    "\n",
    "# Load the dataset\n",
    "data = pd.read_csv('youth_smoking_drug_data_10000_rows_expanded.csv')\n",
    "\n",
    "print(\"Dataset Overview:\")\n",
    "print(data.head())\n"
   ]
  },
  {
   "cell_type": "code",
   "execution_count": 2,
   "metadata": {},
   "outputs": [],
   "source": [
    "class Sigmoid:\n",
    "    def forward(self,x):\n",
    "        # Computed the sigmoind function\n",
    "        # The result is stored in self.output for use during the backward pass\n",
    "        self.output = 1 / (1 + np.exp(-x))\n",
    "        print(\"Sigmoid Forward Output:\", self.output)\n",
    "        return self.output\n",
    "    \n",
    "    def backward(self, grad):\n",
    "        grad_output = grad * self.output * (1 - self.output)\n",
    "        print(\"Sigmoid Backward Gradient:\", grad_output)\n",
    "        return grad_output\n"
   ]
  },
  {
   "cell_type": "code",
   "execution_count": 3,
   "metadata": {},
   "outputs": [],
   "source": [
    "class ReLU:\n",
    "    def forward(self, x):\n",
    "        # Save the input for use in the backward pass\n",
    "        self.input = x  \n",
    "        relu_output = np.maximum(0, x)\n",
    "        print(\"ReLU Forward Output:\", relu_output)  # Output for forward pass\n",
    "        return relu_output  # Apply ReLU activation\n",
    "\n",
    "    def backward(self, grad):\n",
    "        # Create a copy of grad to avoid modifying it directly\n",
    "        grad_input = np.array(grad, copy=True)\n",
    "        # Set the gradient to 0 for all input values where x <= 0\n",
    "        grad_input[self.input <= 0] = 0\n",
    "        print(\"ReLU Backward Gradient:\", grad_input)\n",
    "        return grad_input  # Return the modified gradient\n"
   ]
  },
  {
   "cell_type": "code",
   "execution_count": 4,
   "metadata": {},
   "outputs": [],
   "source": [
    "class Softmax:\n",
    "    def forward(self,x):\n",
    "       # Subtract the max value for numerical stability\n",
    "        exp_values = np.exp(x - np.max(x, axis=1, keepdims=True))\n",
    "        # Normalize by dividing by the sum of exponentials\n",
    "        self.output = exp_values / np.sum(exp_values, axis=1, keepdims=True)\n",
    "        print(\"Softmax Forward Output (Probabilities):\", self.output)\n",
    "        return self.output\n",
    "\n",
    "\n",
    "    def backward(self,grad):\n",
    "        print(\"Softmax Backward Gradient:\", grad)\n",
    "        return grad"
   ]
  },
  {
   "cell_type": "code",
   "execution_count": 5,
   "metadata": {},
   "outputs": [],
   "source": [
    "import numpy as np\n",
    "\n",
    "class Dropout:\n",
    "    def __init__(self, dropout_rate):\n",
    "        self.dropout_rate = dropout_rate  # Store the dropout rate\n",
    "        self.mask = None  # Initialize the mask to None\n",
    "\n",
    "    def forward(self, inputs, training=True):\n",
    "        if training:\n",
    "            # Step 1: Generate a binary mask to randomly drop neurons\n",
    "            self.mask = np.random.binomial(1, 1 - self.dropout_rate, size=inputs.shape)\n",
    "            \n",
    "            # Step 2: Apply the mask to deactivate neurons\n",
    "            masked_inputs = inputs * self.mask\n",
    "            \n",
    "            # Step 3: Scale the active neurons to maintain consistent magnitude\n",
    "            output = masked_inputs / (1 - self.dropout_rate)\n",
    "            \n",
    "            # Step 4: Print the output for debugging during training\n",
    "            print(\"Dropout Forward Output (Training):\", output)\n",
    "            \n",
    "            # Step 5: Return the processed output\n",
    "            return output\n",
    "        else:\n",
    "            # Step 1: Print the input for debugging during testing\n",
    "            print(\"Dropout Forward Output (Testing):\", inputs)\n",
    "            \n",
    "            # Step 2: Return the input unchanged\n",
    "            return inputs\n",
    "\n",
    "    def backward(self, grad_output):\n",
    "        # Step 1: Propagate gradients only through active neurons\n",
    "        grad_input = grad_output * self.mask\n",
    "        \n",
    "        # Step 2: Scale the gradients to maintain consistent magnitude\n",
    "        grad_input = grad_input / (1 - self.dropout_rate)\n",
    "        \n",
    "        # Step 3: Print the backward pass gradients for debugging\n",
    "        print(\"Dropout Backward Gradient:\", grad_input)\n",
    "        \n",
    "        # Step 4: Return the processed gradients\n",
    "        return grad_input\n"
   ]
  },
  {
   "cell_type": "code",
   "execution_count": null,
   "metadata": {},
   "outputs": [],
   "source": []
  }
 ],
 "metadata": {
  "kernelspec": {
   "display_name": "Python 3",
   "language": "python",
   "name": "python3"
  },
  "language_info": {
   "codemirror_mode": {
    "name": "ipython",
    "version": 3
   },
   "file_extension": ".py",
   "mimetype": "text/x-python",
   "name": "python",
   "nbconvert_exporter": "python",
   "pygments_lexer": "ipython3",
   "version": "3.11.9"
  }
 },
 "nbformat": 4,
 "nbformat_minor": 2
}
